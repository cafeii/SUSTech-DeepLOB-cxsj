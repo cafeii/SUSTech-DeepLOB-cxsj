{
 "cells": [
  {
   "cell_type": "code",
   "execution_count": 1,
   "metadata": {
    "ExecuteTime": {
     "end_time": "2022-11-28T07:06:17.825339Z",
     "start_time": "2022-11-28T07:06:16.332815Z"
    }
   },
   "outputs": [],
   "source": [
    "import pandas as pd\n",
    "import pickle\n",
    "import numpy as np\n",
    "import matplotlib.pyplot as plt\n",
    "from datetime import datetime\n",
    "from tqdm import tqdm \n",
    "from sklearn.metrics import accuracy_score, classification_report\n",
    "import torch\n",
    "import torch.nn.functional as F\n",
    "from torch.utils import data\n",
    "from torchinfo import summary\n",
    "import torch.nn as nn\n",
    "import torch.optim as optim"
   ]
  },
  {
   "cell_type": "code",
   "execution_count": 2,
   "metadata": {
    "ExecuteTime": {
     "end_time": "2022-11-28T07:06:17.841354Z",
     "start_time": "2022-11-28T07:06:17.826340Z"
    }
   },
   "outputs": [
    {
     "name": "stdout",
     "output_type": "stream",
     "text": [
      "cuda:0\n"
     ]
    }
   ],
   "source": [
    "device = torch.device('cuda:0' if torch.cuda.is_available() else 'cpu')\n",
    "print(device)"
   ]
  },
  {
   "cell_type": "code",
   "execution_count": 3,
   "metadata": {
    "ExecuteTime": {
     "end_time": "2022-11-28T07:06:17.857368Z",
     "start_time": "2022-11-28T07:06:17.842355Z"
    }
   },
   "outputs": [],
   "source": [
    "def prepare_x(data):\n",
    "    df1 = data[:40, :].T\n",
    "    return np.array(df1)\n",
    "\n",
    "def get_label(data):\n",
    "    lob = data[-5:, :].T\n",
    "    return lob\n",
    "\n",
    "def data_classification(X, Y, T):\n",
    "    [N, D] = X.shape\n",
    "    df = np.array(X)\n",
    "\n",
    "    dY = np.array(Y)\n",
    "\n",
    "    dataY = dY[T - 1:N]\n",
    "\n",
    "    dataX = np.zeros((N - T + 1, T, D))\n",
    "    for i in range(T, N + 1):\n",
    "        dataX[i - T] = df[i - T:i, :]\n",
    "\n",
    "    return dataX, dataY\n",
    "\n",
    "def torch_data(x, y):\n",
    "    x = torch.from_numpy(x)\n",
    "    x = torch.unsqueeze(x, 1)\n",
    "    y = torch.from_numpy(y)\n",
    "    y = F.one_hot(y, num_classes=3)\n",
    "    return x, y"
   ]
  },
  {
   "cell_type": "code",
   "execution_count": 4,
   "metadata": {
    "ExecuteTime": {
     "end_time": "2022-11-28T07:06:17.873383Z",
     "start_time": "2022-11-28T07:06:17.859370Z"
    }
   },
   "outputs": [],
   "source": [
    "class Dataset(data.Dataset):\n",
    "    \"\"\"Characterizes a dataset for PyTorch\"\"\"\n",
    "    def __init__(self, data, k, num_classes, T):\n",
    "        \"\"\"Initialization\"\"\" \n",
    "        self.k = k\n",
    "        self.num_classes = num_classes\n",
    "        self.T = T\n",
    "            \n",
    "        x = prepare_x(data)\n",
    "        y = get_label(data)\n",
    "        x, y = data_classification(x, y, self.T)\n",
    "        y = y[:,self.k] - 1\n",
    "        self.length = len(x)\n",
    "\n",
    "        x = torch.from_numpy(x)\n",
    "        self.x = torch.unsqueeze(x, 1)\n",
    "        self.y = torch.from_numpy(y)\n",
    "\n",
    "    def __len__(self):\n",
    "        \"\"\"Denotes the total number of samples\"\"\"\n",
    "        return self.length\n",
    "\n",
    "    def __getitem__(self, index):\n",
    "        \"\"\"Generates samples of data\"\"\"\n",
    "        return self.x[index], self.y[index]"
   ]
  },
  {
   "cell_type": "code",
   "execution_count": 5,
   "metadata": {
    "ExecuteTime": {
     "end_time": "2022-11-28T07:06:17.889398Z",
     "start_time": "2022-11-28T07:06:17.874384Z"
    }
   },
   "outputs": [],
   "source": [
    "train_data_path = 'Train_Dst_NoAuction_DecPre_CF_7.txt'\n",
    "test_data_path1 = 'Test_Dst_NoAuction_DecPre_CF_7.txt'\n",
    "test_data_path2 = 'Test_Dst_NoAuction_DecPre_CF_8.txt'\n",
    "test_data_path3 = 'Test_Dst_NoAuction_DecPre_CF_9.txt'"
   ]
  },
  {
   "cell_type": "code",
   "execution_count": 6,
   "metadata": {
    "ExecuteTime": {
     "end_time": "2022-11-28T07:06:42.416495Z",
     "start_time": "2022-11-28T07:06:17.890398Z"
    }
   },
   "outputs": [],
   "source": [
    "dec_traindata = np.loadtxt(train_data_path)\n",
    "dec_test1 = np.loadtxt(test_data_path1)\n",
    "dec_test2 = np.loadtxt(test_data_path2)\n",
    "dec_test3 = np.loadtxt(test_data_path3)\n",
    "\n",
    "dec_train = dec_traindata[:, :int(np.floor(dec_traindata.shape[1]*0.8))]\n",
    "dec_val = dec_traindata[:, int(np.floor(dec_traindata.shape[1]*0.8)):]"
   ]
  },
  {
   "cell_type": "code",
   "execution_count": 7,
   "metadata": {
    "ExecuteTime": {
     "end_time": "2022-11-28T07:06:42.448524Z",
     "start_time": "2022-11-28T07:06:42.417495Z"
    }
   },
   "outputs": [],
   "source": [
    "dec_test = np.hstack((dec_test1, dec_test2, dec_test3))"
   ]
  },
  {
   "cell_type": "code",
   "execution_count": 8,
   "metadata": {
    "ExecuteTime": {
     "end_time": "2022-11-28T07:06:44.268178Z",
     "start_time": "2022-11-28T07:06:42.449524Z"
    }
   },
   "outputs": [],
   "source": [
    "batch_size = 64\n",
    "\n",
    "dataset_train = Dataset(data=dec_train, k=4, num_classes=3, T=100)\n",
    "dataset_val = Dataset(data=dec_val, k=4, num_classes=3, T=100)\n",
    "dataset_test = Dataset(data=dec_test, k=4, num_classes=3, T=100)"
   ]
  },
  {
   "cell_type": "code",
   "execution_count": 9,
   "metadata": {
    "ExecuteTime": {
     "end_time": "2022-11-28T07:06:44.284193Z",
     "start_time": "2022-11-28T07:06:44.269179Z"
    }
   },
   "outputs": [
    {
     "name": "stdout",
     "output_type": "stream",
     "text": [
      "torch.Size([203701, 1, 100, 40]) torch.Size([203701])\n"
     ]
    }
   ],
   "source": [
    "train_loader = torch.utils.data.DataLoader(dataset=dataset_train, batch_size=batch_size, shuffle=True)\n",
    "val_loader = torch.utils.data.DataLoader(dataset=dataset_val, batch_size=batch_size, shuffle=False)\n",
    "test_loader = torch.utils.data.DataLoader(dataset=dataset_test, batch_size=batch_size, shuffle=False)\n",
    "\n",
    "print(dataset_train.x.shape, dataset_train.y.shape)"
   ]
  },
  {
   "cell_type": "code",
   "execution_count": 10,
   "metadata": {
    "ExecuteTime": {
     "end_time": "2022-11-28T07:06:44.300208Z",
     "start_time": "2022-11-28T07:06:44.286194Z"
    }
   },
   "outputs": [
    {
     "name": "stdout",
     "output_type": "stream",
     "text": [
      "(149, 17460) (149, 5820) (149, 231470)\n"
     ]
    }
   ],
   "source": [
    "size = len(dataset_train) // 7\n",
    "train_size = int(size * 0.6)\n",
    "val_size = int(size * 0.2)\n",
    "\n",
    "dec_data = dec_traindata[:, :size]\n",
    "dec_train = dec_traindata[:, :train_size]\n",
    "dec_val = dec_traindata[:, train_size:train_size+val_size]\n",
    "dec_test = dec_traindata[:, train_size+val_size:]\n",
    "\n",
    "print(dec_train.shape, dec_val.shape, dec_test.shape)"
   ]
  },
  {
   "cell_type": "code",
   "execution_count": 11,
   "metadata": {
    "ExecuteTime": {
     "end_time": "2022-11-28T07:06:44.316222Z",
     "start_time": "2022-11-28T07:06:44.301209Z"
    }
   },
   "outputs": [],
   "source": [
    "tmp_loader = torch.utils.data.DataLoader(dataset=dataset_train, batch_size=1, shuffle=True)"
   ]
  },
  {
   "cell_type": "code",
   "execution_count": 12,
   "metadata": {
    "ExecuteTime": {
     "end_time": "2022-11-28T07:06:44.332237Z",
     "start_time": "2022-11-28T07:06:44.317223Z"
    }
   },
   "outputs": [],
   "source": [
    "class deeplob(nn.Module):\n",
    "    def __init__(self, length):\n",
    "        super().__init__()\n",
    "        self.conv1 = nn.Sequential( # 144 * 40\n",
    "            nn.Conv2d(in_channels=1, out_channels=16, kernel_size=(1, 2), stride=(1, 2)),\n",
    "            nn.ReLU(),\n",
    "            nn.BatchNorm2d(16),\n",
    "            nn.Conv2d(in_channels=16, out_channels=16, kernel_size=(4, 1)),\n",
    "            nn.ReLU(),\n",
    "            nn.BatchNorm2d(16),\n",
    "            nn.Conv2d(in_channels=16, out_channels=16, kernel_size=(4, 1)),\n",
    "            nn.ReLU(),\n",
    "            nn.BatchNorm2d(16)\n",
    "        ) # 16 * 138 * 20\n",
    "\n",
    "        self.conv2 = nn.Sequential( # 16 * 142 * 20\n",
    "            nn.Conv2d(in_channels=16, out_channels=16, kernel_size=(1, 2), stride=(1, 2)),\n",
    "            nn.ReLU(),\n",
    "            nn.BatchNorm2d(16),\n",
    "            nn.Conv2d(in_channels=16, out_channels=16, kernel_size=(4, 1)),\n",
    "            nn.ReLU(),\n",
    "            nn.BatchNorm2d(16),\n",
    "            nn.Conv2d(in_channels=16, out_channels=16, kernel_size=(4, 1)),\n",
    "            nn.ReLU(),\n",
    "            nn.BatchNorm2d(16)\n",
    "        ) # 16 * 132 * 10\n",
    "        \n",
    "        self.conv3 = nn.Sequential( # 16 * 132 * 10\n",
    "            nn.Conv2d(in_channels=16, out_channels=16, kernel_size=(1, 10)),\n",
    "            nn.ReLU(),\n",
    "            nn.BatchNorm2d(16),\n",
    "            nn.Conv2d(in_channels=16, out_channels=16, kernel_size=(4, 1)),\n",
    "            nn.ReLU(),\n",
    "            nn.BatchNorm2d(16),\n",
    "            nn.Conv2d(in_channels=16, out_channels=16, kernel_size=(4, 1)),\n",
    "            nn.ReLU(),\n",
    "            nn.BatchNorm2d(16)\n",
    "        ) # 16 * 126 * 1\n",
    "\n",
    "        self.incept1 = nn.Sequential( # 16 * 126 * 1\n",
    "            nn.Conv2d(in_channels=16, out_channels=32, kernel_size=1, padding='same'),\n",
    "            nn.ReLU(),\n",
    "            nn.BatchNorm2d(32),\n",
    "            nn.Conv2d(in_channels=32, out_channels=32, kernel_size=(3, 1), padding='same'),\n",
    "            nn.ReLU(),\n",
    "            nn.BatchNorm2d(32)\n",
    "        ) # 32 * 124 * 1\n",
    "        \n",
    "        self.incept2 = nn.Sequential( # 32 * 124 * 1\n",
    "            nn.Conv2d(in_channels=16, out_channels=32, kernel_size=1, padding='same'),\n",
    "            nn.ReLU(),\n",
    "            nn.BatchNorm2d(32),\n",
    "            nn.Conv2d(in_channels=32, out_channels=32, kernel_size=(5, 1), padding='same'),\n",
    "            nn.ReLU(),\n",
    "            nn.BatchNorm2d(32)\n",
    "        ) # 32 * 120 * 1\n",
    "\n",
    "        self.incept3 = nn.Sequential( # 32 * 120 * 1\n",
    "            nn.MaxPool2d(kernel_size=(3, 1), stride=(1,1),padding=(1,0)),\n",
    "            nn.Conv2d(in_channels=16, out_channels=32, kernel_size=(1, 1), padding='same'),\n",
    "            nn.ReLU(),\n",
    "            nn.BatchNorm2d(32)\n",
    "        ) # 32 * 38 * 1\n",
    "\n",
    "        self.lstm = nn.LSTM(input_size=96, hidden_size=64, num_layers=1, batch_first=True)\n",
    "        self.fc1 = nn.Linear(64, length)\n",
    "\n",
    "    def forward(self, x):\n",
    "        # h0: (number of hidden layers, batch size, hidden size)\n",
    "        h0 = torch.zeros(1, x.size(0), 64).to(device)\n",
    "        c0 = torch.zeros(1, x.size(0), 64).to(device)\n",
    "    \n",
    "        x = self.conv1(x)\n",
    "        x = self.conv2(x)\n",
    "        x = self.conv3(x)\n",
    "        \n",
    "        x_incept1 = self.incept1(x)\n",
    "        x_incept2 = self.incept2(x)\n",
    "        x_incept3 = self.incept3(x)  \n",
    "        \n",
    "        x = torch.cat((x_incept1, x_incept2, x_incept3), dim=1)\n",
    "        \n",
    "        x = x.permute(0, 2, 1, 3)\n",
    "        x = torch.reshape(x, (-1, x.shape[1], x.shape[2]))\n",
    "        \n",
    "        x, _ = self.lstm(x, (h0, c0))\n",
    "        x = x[:, -1, :]\n",
    "        x = self.fc1(x)\n",
    "        forecast_y = torch.softmax(x, dim=1)\n",
    "        \n",
    "        return forecast_y"
   ]
  },
  {
   "cell_type": "code",
   "execution_count": 16,
   "metadata": {
    "ExecuteTime": {
     "end_time": "2022-11-28T07:22:47.483553Z",
     "start_time": "2022-11-28T07:22:47.437511Z"
    }
   },
   "outputs": [],
   "source": [
    "model = deeplob(dataset_train.num_classes).to(device)\n",
    "criterion = nn.CrossEntropyLoss().to(device)\n",
    "optimizer = torch.optim.Adam(model.parameters(), lr=0.001)"
   ]
  },
  {
   "cell_type": "code",
   "execution_count": 17,
   "metadata": {
    "ExecuteTime": {
     "end_time": "2022-11-28T07:22:48.914854Z",
     "start_time": "2022-11-28T07:22:48.895837Z"
    }
   },
   "outputs": [
    {
     "data": {
      "text/plain": [
       "==========================================================================================\n",
       "Layer (type:depth-idx)                   Output Shape              Param #\n",
       "==========================================================================================\n",
       "deeplob                                  [1, 3]                    --\n",
       "├─Sequential: 1-1                        [1, 16, 94, 20]           --\n",
       "│    └─Conv2d: 2-1                       [1, 16, 100, 20]          48\n",
       "│    └─ReLU: 2-2                         [1, 16, 100, 20]          --\n",
       "│    └─BatchNorm2d: 2-3                  [1, 16, 100, 20]          32\n",
       "│    └─Conv2d: 2-4                       [1, 16, 97, 20]           1,040\n",
       "│    └─ReLU: 2-5                         [1, 16, 97, 20]           --\n",
       "│    └─BatchNorm2d: 2-6                  [1, 16, 97, 20]           32\n",
       "│    └─Conv2d: 2-7                       [1, 16, 94, 20]           1,040\n",
       "│    └─ReLU: 2-8                         [1, 16, 94, 20]           --\n",
       "│    └─BatchNorm2d: 2-9                  [1, 16, 94, 20]           32\n",
       "├─Sequential: 1-2                        [1, 16, 88, 10]           --\n",
       "│    └─Conv2d: 2-10                      [1, 16, 94, 10]           528\n",
       "│    └─ReLU: 2-11                        [1, 16, 94, 10]           --\n",
       "│    └─BatchNorm2d: 2-12                 [1, 16, 94, 10]           32\n",
       "│    └─Conv2d: 2-13                      [1, 16, 91, 10]           1,040\n",
       "│    └─ReLU: 2-14                        [1, 16, 91, 10]           --\n",
       "│    └─BatchNorm2d: 2-15                 [1, 16, 91, 10]           32\n",
       "│    └─Conv2d: 2-16                      [1, 16, 88, 10]           1,040\n",
       "│    └─ReLU: 2-17                        [1, 16, 88, 10]           --\n",
       "│    └─BatchNorm2d: 2-18                 [1, 16, 88, 10]           32\n",
       "├─Sequential: 1-3                        [1, 16, 82, 1]            --\n",
       "│    └─Conv2d: 2-19                      [1, 16, 88, 1]            2,576\n",
       "│    └─ReLU: 2-20                        [1, 16, 88, 1]            --\n",
       "│    └─BatchNorm2d: 2-21                 [1, 16, 88, 1]            32\n",
       "│    └─Conv2d: 2-22                      [1, 16, 85, 1]            1,040\n",
       "│    └─ReLU: 2-23                        [1, 16, 85, 1]            --\n",
       "│    └─BatchNorm2d: 2-24                 [1, 16, 85, 1]            32\n",
       "│    └─Conv2d: 2-25                      [1, 16, 82, 1]            1,040\n",
       "│    └─ReLU: 2-26                        [1, 16, 82, 1]            --\n",
       "│    └─BatchNorm2d: 2-27                 [1, 16, 82, 1]            32\n",
       "├─Sequential: 1-4                        [1, 32, 82, 1]            --\n",
       "│    └─Conv2d: 2-28                      [1, 32, 82, 1]            544\n",
       "│    └─ReLU: 2-29                        [1, 32, 82, 1]            --\n",
       "│    └─BatchNorm2d: 2-30                 [1, 32, 82, 1]            64\n",
       "│    └─Conv2d: 2-31                      [1, 32, 82, 1]            3,104\n",
       "│    └─ReLU: 2-32                        [1, 32, 82, 1]            --\n",
       "│    └─BatchNorm2d: 2-33                 [1, 32, 82, 1]            64\n",
       "├─Sequential: 1-5                        [1, 32, 82, 1]            --\n",
       "│    └─Conv2d: 2-34                      [1, 32, 82, 1]            544\n",
       "│    └─ReLU: 2-35                        [1, 32, 82, 1]            --\n",
       "│    └─BatchNorm2d: 2-36                 [1, 32, 82, 1]            64\n",
       "│    └─Conv2d: 2-37                      [1, 32, 82, 1]            5,152\n",
       "│    └─ReLU: 2-38                        [1, 32, 82, 1]            --\n",
       "│    └─BatchNorm2d: 2-39                 [1, 32, 82, 1]            64\n",
       "├─Sequential: 1-6                        [1, 32, 82, 1]            --\n",
       "│    └─MaxPool2d: 2-40                   [1, 16, 82, 1]            --\n",
       "│    └─Conv2d: 2-41                      [1, 32, 82, 1]            544\n",
       "│    └─ReLU: 2-42                        [1, 32, 82, 1]            --\n",
       "│    └─BatchNorm2d: 2-43                 [1, 32, 82, 1]            64\n",
       "├─LSTM: 1-7                              [1, 82, 64]               41,472\n",
       "├─Linear: 1-8                            [1, 3]                    195\n",
       "==========================================================================================\n",
       "Total params: 61,555\n",
       "Trainable params: 61,555\n",
       "Non-trainable params: 0\n",
       "Total mult-adds (M): 11.04\n",
       "==========================================================================================\n",
       "Input size (MB): 0.02\n",
       "Forward/backward pass size (MB): 2.51\n",
       "Params size (MB): 0.25\n",
       "Estimated Total Size (MB): 2.77\n",
       "=========================================================================================="
      ]
     },
     "execution_count": 17,
     "metadata": {},
     "output_type": "execute_result"
    }
   ],
   "source": [
    "summary(model, (1, 1, 100, 40))"
   ]
  },
  {
   "cell_type": "code",
   "execution_count": 18,
   "metadata": {
    "ExecuteTime": {
     "end_time": "2022-11-28T07:59:40.961817Z",
     "start_time": "2022-11-28T07:22:49.615492Z"
    }
   },
   "outputs": [
    {
     "name": "stderr",
     "output_type": "stream",
     "text": [
      "  2%|▏         | 1/50 [00:43<35:45, 43.78s/it]"
     ]
    },
    {
     "name": "stdout",
     "output_type": "stream",
     "text": [
      "Epoch 1/50, Train Loss: 0.8881,           Validation Loss: 0.8947, Duration: 0:00:43.776800\n"
     ]
    },
    {
     "name": "stderr",
     "output_type": "stream",
     "text": [
      "\r",
      "  4%|▍         | 2/50 [01:26<34:43, 43.40s/it]"
     ]
    },
    {
     "name": "stdout",
     "output_type": "stream",
     "text": [
      "Epoch 2/50, Train Loss: 0.8151,           Validation Loss: 0.8229, Duration: 0:00:43.139221\n"
     ]
    },
    {
     "name": "stderr",
     "output_type": "stream",
     "text": [
      "\r",
      "  6%|▌         | 3/50 [02:10<34:00, 43.42s/it]"
     ]
    },
    {
     "name": "stdout",
     "output_type": "stream",
     "text": [
      "Epoch 3/50, Train Loss: 0.7875,           Validation Loss: 0.7970, Duration: 0:00:43.431486\n"
     ]
    },
    {
     "name": "stderr",
     "output_type": "stream",
     "text": [
      "\r",
      "  8%|▊         | 4/50 [02:53<33:17, 43.43s/it]"
     ]
    },
    {
     "name": "stdout",
     "output_type": "stream",
     "text": [
      "Epoch 4/50, Train Loss: 0.7686,           Validation Loss: 0.7900, Duration: 0:00:43.445499\n"
     ]
    },
    {
     "name": "stderr",
     "output_type": "stream",
     "text": [
      "\r",
      " 10%|█         | 5/50 [03:37<32:44, 43.65s/it]"
     ]
    },
    {
     "name": "stdout",
     "output_type": "stream",
     "text": [
      "Epoch 5/50, Train Loss: 0.7539,           Validation Loss: 0.7725, Duration: 0:00:44.054053\n"
     ]
    },
    {
     "name": "stderr",
     "output_type": "stream",
     "text": [
      "\r",
      " 12%|█▏        | 6/50 [04:21<32:04, 43.75s/it]"
     ]
    },
    {
     "name": "stdout",
     "output_type": "stream",
     "text": [
      "Epoch 6/50, Train Loss: 0.7452,           Validation Loss: 0.7813, Duration: 0:00:43.929940\n"
     ]
    },
    {
     "name": "stderr",
     "output_type": "stream",
     "text": [
      "\r",
      " 14%|█▍        | 7/50 [05:05<31:23, 43.80s/it]"
     ]
    },
    {
     "name": "stdout",
     "output_type": "stream",
     "text": [
      "Epoch 7/50, Train Loss: 0.7394,           Validation Loss: 0.7680, Duration: 0:00:43.910922\n"
     ]
    },
    {
     "name": "stderr",
     "output_type": "stream",
     "text": [
      "\r",
      " 16%|█▌        | 8/50 [05:49<30:44, 43.91s/it]"
     ]
    },
    {
     "name": "stdout",
     "output_type": "stream",
     "text": [
      "Epoch 8/50, Train Loss: 0.7336,           Validation Loss: 0.7657, Duration: 0:00:44.138131\n"
     ]
    },
    {
     "name": "stderr",
     "output_type": "stream",
     "text": [
      "\r",
      " 18%|█▊        | 9/50 [06:33<30:02, 43.97s/it]"
     ]
    },
    {
     "name": "stdout",
     "output_type": "stream",
     "text": [
      "Epoch 9/50, Train Loss: 0.7291,           Validation Loss: 0.7628, Duration: 0:00:44.091085\n"
     ]
    },
    {
     "name": "stderr",
     "output_type": "stream",
     "text": [
      "\r",
      " 20%|██        | 10/50 [07:17<29:15, 43.90s/it]"
     ]
    },
    {
     "name": "stdout",
     "output_type": "stream",
     "text": [
      "Epoch 10/50, Train Loss: 0.7257,           Validation Loss: 0.7632, Duration: 0:00:43.736764\n"
     ]
    },
    {
     "name": "stderr",
     "output_type": "stream",
     "text": [
      "\r",
      " 22%|██▏       | 11/50 [08:01<28:25, 43.74s/it]"
     ]
    },
    {
     "name": "stdout",
     "output_type": "stream",
     "text": [
      "Epoch 11/50, Train Loss: 0.7224,           Validation Loss: 0.7633, Duration: 0:00:43.379440\n"
     ]
    },
    {
     "name": "stderr",
     "output_type": "stream",
     "text": [
      "\r",
      " 24%|██▍       | 12/50 [08:44<27:38, 43.65s/it]"
     ]
    },
    {
     "name": "stdout",
     "output_type": "stream",
     "text": [
      "Epoch 12/50, Train Loss: 0.7197,           Validation Loss: 0.7657, Duration: 0:00:43.444498\n"
     ]
    },
    {
     "name": "stderr",
     "output_type": "stream",
     "text": [
      "\r",
      " 26%|██▌       | 13/50 [09:28<27:00, 43.79s/it]"
     ]
    },
    {
     "name": "stdout",
     "output_type": "stream",
     "text": [
      "Epoch 13/50, Train Loss: 0.7172,           Validation Loss: 0.7609, Duration: 0:00:44.119112\n"
     ]
    },
    {
     "name": "stderr",
     "output_type": "stream",
     "text": [
      "\r",
      " 28%|██▊       | 14/50 [10:12<26:18, 43.86s/it]"
     ]
    },
    {
     "name": "stdout",
     "output_type": "stream",
     "text": [
      "Epoch 14/50, Train Loss: 0.7148,           Validation Loss: 0.7596, Duration: 0:00:44.003006\n"
     ]
    },
    {
     "name": "stderr",
     "output_type": "stream",
     "text": [
      "\r",
      " 30%|███       | 15/50 [10:56<25:33, 43.80s/it]"
     ]
    },
    {
     "name": "stdout",
     "output_type": "stream",
     "text": [
      "Epoch 15/50, Train Loss: 0.7135,           Validation Loss: 0.7606, Duration: 0:00:43.679712\n"
     ]
    },
    {
     "name": "stderr",
     "output_type": "stream",
     "text": [
      "\r",
      " 32%|███▏      | 16/50 [11:40<24:54, 43.96s/it]"
     ]
    },
    {
     "name": "stdout",
     "output_type": "stream",
     "text": [
      "Epoch 16/50, Train Loss: 0.7120,           Validation Loss: 0.7641, Duration: 0:00:44.315290\n"
     ]
    },
    {
     "name": "stderr",
     "output_type": "stream",
     "text": [
      "\r",
      " 34%|███▍      | 17/50 [12:24<24:10, 43.97s/it]"
     ]
    },
    {
     "name": "stdout",
     "output_type": "stream",
     "text": [
      "Epoch 17/50, Train Loss: 0.7111,           Validation Loss: 0.7568, Duration: 0:00:43.990996\n"
     ]
    },
    {
     "name": "stderr",
     "output_type": "stream",
     "text": [
      "\r",
      " 36%|███▌      | 18/50 [13:08<23:29, 44.05s/it]"
     ]
    },
    {
     "name": "stdout",
     "output_type": "stream",
     "text": [
      "Epoch 18/50, Train Loss: 0.7087,           Validation Loss: 0.7604, Duration: 0:00:44.246227\n"
     ]
    },
    {
     "name": "stderr",
     "output_type": "stream",
     "text": [
      "\r",
      " 38%|███▊      | 19/50 [13:52<22:45, 44.04s/it]"
     ]
    },
    {
     "name": "stdout",
     "output_type": "stream",
     "text": [
      "Epoch 19/50, Train Loss: 0.7071,           Validation Loss: 0.7641, Duration: 0:00:44.020032\n"
     ]
    },
    {
     "name": "stderr",
     "output_type": "stream",
     "text": [
      "\r",
      " 40%|████      | 20/50 [14:36<22:00, 44.00s/it]"
     ]
    },
    {
     "name": "stdout",
     "output_type": "stream",
     "text": [
      "Epoch 20/50, Train Loss: 0.7065,           Validation Loss: 0.7592, Duration: 0:00:43.914926\n"
     ]
    },
    {
     "name": "stderr",
     "output_type": "stream",
     "text": [
      "\r",
      " 42%|████▏     | 21/50 [15:21<21:18, 44.08s/it]"
     ]
    },
    {
     "name": "stdout",
     "output_type": "stream",
     "text": [
      "Epoch 21/50, Train Loss: 0.7032,           Validation Loss: 0.7579, Duration: 0:00:44.250231\n"
     ]
    },
    {
     "name": "stderr",
     "output_type": "stream",
     "text": [
      "\r",
      " 44%|████▍     | 22/50 [16:05<20:35, 44.12s/it]"
     ]
    },
    {
     "name": "stdout",
     "output_type": "stream",
     "text": [
      "Epoch 22/50, Train Loss: 0.7033,           Validation Loss: 0.7614, Duration: 0:00:44.218202\n"
     ]
    },
    {
     "name": "stderr",
     "output_type": "stream",
     "text": [
      "\r",
      " 46%|████▌     | 23/50 [16:49<19:51, 44.12s/it]"
     ]
    },
    {
     "name": "stdout",
     "output_type": "stream",
     "text": [
      "Epoch 23/50, Train Loss: 0.7019,           Validation Loss: 0.7593, Duration: 0:00:44.124116\n"
     ]
    },
    {
     "name": "stderr",
     "output_type": "stream",
     "text": [
      "\r",
      " 48%|████▊     | 24/50 [17:33<19:08, 44.19s/it]"
     ]
    },
    {
     "name": "stdout",
     "output_type": "stream",
     "text": [
      "Epoch 24/50, Train Loss: 0.7008,           Validation Loss: 0.7612, Duration: 0:00:44.334308\n"
     ]
    },
    {
     "name": "stderr",
     "output_type": "stream",
     "text": [
      "\r",
      " 50%|█████     | 25/50 [18:17<18:23, 44.15s/it]"
     ]
    },
    {
     "name": "stdout",
     "output_type": "stream",
     "text": [
      "Epoch 25/50, Train Loss: 0.6996,           Validation Loss: 0.7574, Duration: 0:00:44.065063\n"
     ]
    },
    {
     "name": "stderr",
     "output_type": "stream",
     "text": [
      "\r",
      " 52%|█████▏    | 26/50 [19:01<17:38, 44.09s/it]"
     ]
    },
    {
     "name": "stdout",
     "output_type": "stream",
     "text": [
      "Epoch 26/50, Train Loss: 0.6981,           Validation Loss: 0.7613, Duration: 0:00:43.951960\n"
     ]
    },
    {
     "name": "stderr",
     "output_type": "stream",
     "text": [
      "\r",
      " 54%|█████▍    | 27/50 [19:46<16:56, 44.18s/it]"
     ]
    },
    {
     "name": "stdout",
     "output_type": "stream",
     "text": [
      "Epoch 27/50, Train Loss: 0.6972,           Validation Loss: 0.7625, Duration: 0:00:44.387201\n"
     ]
    },
    {
     "name": "stderr",
     "output_type": "stream",
     "text": [
      "\r",
      " 56%|█████▌    | 28/50 [20:30<16:10, 44.13s/it]"
     ]
    },
    {
     "name": "stdout",
     "output_type": "stream",
     "text": [
      "Epoch 28/50, Train Loss: 0.6974,           Validation Loss: 0.7603, Duration: 0:00:44.019021\n"
     ]
    },
    {
     "name": "stderr",
     "output_type": "stream",
     "text": [
      "\r",
      " 58%|█████▊    | 29/50 [21:14<15:26, 44.14s/it]"
     ]
    },
    {
     "name": "stdout",
     "output_type": "stream",
     "text": [
      "Epoch 29/50, Train Loss: 0.6956,           Validation Loss: 0.7609, Duration: 0:00:44.147137\n"
     ]
    },
    {
     "name": "stderr",
     "output_type": "stream",
     "text": [
      "\r",
      " 60%|██████    | 30/50 [21:58<14:42, 44.14s/it]"
     ]
    },
    {
     "name": "stdout",
     "output_type": "stream",
     "text": [
      "Epoch 30/50, Train Loss: 0.6947,           Validation Loss: 0.7605, Duration: 0:00:44.156146\n"
     ]
    },
    {
     "name": "stderr",
     "output_type": "stream",
     "text": [
      "\r",
      " 62%|██████▏   | 31/50 [22:42<13:59, 44.17s/it]"
     ]
    },
    {
     "name": "stdout",
     "output_type": "stream",
     "text": [
      "Epoch 31/50, Train Loss: 0.6939,           Validation Loss: 0.7601, Duration: 0:00:44.232214\n"
     ]
    },
    {
     "name": "stderr",
     "output_type": "stream",
     "text": [
      "\r",
      " 64%|██████▍   | 32/50 [23:27<13:20, 44.46s/it]"
     ]
    },
    {
     "name": "stdout",
     "output_type": "stream",
     "text": [
      "Epoch 32/50, Train Loss: 0.6934,           Validation Loss: 0.7621, Duration: 0:00:45.146046\n"
     ]
    },
    {
     "name": "stderr",
     "output_type": "stream",
     "text": [
      "\r",
      " 66%|██████▌   | 33/50 [24:11<12:33, 44.35s/it]"
     ]
    },
    {
     "name": "stdout",
     "output_type": "stream",
     "text": [
      "Epoch 33/50, Train Loss: 0.6918,           Validation Loss: 0.7624, Duration: 0:00:44.088173\n"
     ]
    },
    {
     "name": "stderr",
     "output_type": "stream",
     "text": [
      "\r",
      " 68%|██████▊   | 34/50 [24:55<11:47, 44.20s/it]"
     ]
    },
    {
     "name": "stdout",
     "output_type": "stream",
     "text": [
      "Epoch 34/50, Train Loss: 0.6917,           Validation Loss: 0.7606, Duration: 0:00:43.835854\n"
     ]
    },
    {
     "name": "stderr",
     "output_type": "stream",
     "text": [
      "\r",
      " 70%|███████   | 35/50 [25:40<11:03, 44.22s/it]"
     ]
    },
    {
     "name": "stdout",
     "output_type": "stream",
     "text": [
      "Epoch 35/50, Train Loss: 0.6902,           Validation Loss: 0.7630, Duration: 0:00:44.282260\n"
     ]
    },
    {
     "name": "stderr",
     "output_type": "stream",
     "text": [
      "\r",
      " 72%|███████▏  | 36/50 [26:24<10:21, 44.41s/it]"
     ]
    },
    {
     "name": "stdout",
     "output_type": "stream",
     "text": [
      "Epoch 36/50, Train Loss: 0.6894,           Validation Loss: 0.7598, Duration: 0:00:44.852780\n"
     ]
    },
    {
     "name": "stderr",
     "output_type": "stream",
     "text": [
      "\r",
      " 74%|███████▍  | 37/50 [27:09<09:37, 44.46s/it]"
     ]
    },
    {
     "name": "stdout",
     "output_type": "stream",
     "text": [
      "Epoch 37/50, Train Loss: 0.6898,           Validation Loss: 0.7582, Duration: 0:00:44.570523\n"
     ]
    },
    {
     "name": "stderr",
     "output_type": "stream",
     "text": [
      "\r",
      " 76%|███████▌  | 38/50 [27:54<08:54, 44.57s/it]"
     ]
    },
    {
     "name": "stdout",
     "output_type": "stream",
     "text": [
      "Epoch 38/50, Train Loss: 0.6883,           Validation Loss: 0.7644, Duration: 0:00:44.836763\n"
     ]
    },
    {
     "name": "stderr",
     "output_type": "stream",
     "text": [
      "\r",
      " 78%|███████▊  | 39/50 [28:39<08:12, 44.81s/it]"
     ]
    },
    {
     "name": "stdout",
     "output_type": "stream",
     "text": [
      "Epoch 39/50, Train Loss: 0.6882,           Validation Loss: 0.7629, Duration: 0:00:45.350231\n"
     ]
    },
    {
     "name": "stderr",
     "output_type": "stream",
     "text": [
      "\r",
      " 80%|████████  | 40/50 [29:24<07:29, 44.93s/it]"
     ]
    },
    {
     "name": "stdout",
     "output_type": "stream",
     "text": [
      "Epoch 40/50, Train Loss: 0.6867,           Validation Loss: 0.7632, Duration: 0:00:45.226118\n"
     ]
    },
    {
     "name": "stderr",
     "output_type": "stream",
     "text": [
      "\r",
      " 82%|████████▏ | 41/50 [30:09<06:43, 44.84s/it]"
     ]
    },
    {
     "name": "stdout",
     "output_type": "stream",
     "text": [
      "Epoch 41/50, Train Loss: 0.6870,           Validation Loss: 0.7623, Duration: 0:00:44.617564\n"
     ]
    },
    {
     "name": "stderr",
     "output_type": "stream",
     "text": [
      "\r",
      " 84%|████████▍ | 42/50 [30:54<05:58, 44.82s/it]"
     ]
    },
    {
     "name": "stdout",
     "output_type": "stream",
     "text": [
      "Epoch 42/50, Train Loss: 0.6867,           Validation Loss: 0.7618, Duration: 0:00:44.780713\n"
     ]
    },
    {
     "name": "stderr",
     "output_type": "stream",
     "text": [
      "\r",
      " 86%|████████▌ | 43/50 [31:39<05:14, 44.86s/it]"
     ]
    },
    {
     "name": "stdout",
     "output_type": "stream",
     "text": [
      "Epoch 43/50, Train Loss: 0.6861,           Validation Loss: 0.7618, Duration: 0:00:44.952869\n"
     ]
    },
    {
     "name": "stderr",
     "output_type": "stream",
     "text": [
      "\r",
      " 88%|████████▊ | 44/50 [32:23<04:28, 44.71s/it]"
     ]
    },
    {
     "name": "stdout",
     "output_type": "stream",
     "text": [
      "Epoch 44/50, Train Loss: 0.6847,           Validation Loss: 0.7649, Duration: 0:00:44.358856\n"
     ]
    },
    {
     "name": "stderr",
     "output_type": "stream",
     "text": [
      "\r",
      " 90%|█████████ | 45/50 [33:07<03:42, 44.60s/it]"
     ]
    },
    {
     "name": "stdout",
     "output_type": "stream",
     "text": [
      "Epoch 45/50, Train Loss: 0.6845,           Validation Loss: 0.7631, Duration: 0:00:44.336884\n"
     ]
    },
    {
     "name": "stderr",
     "output_type": "stream",
     "text": [
      "\r",
      " 92%|█████████▏| 46/50 [33:51<02:57, 44.42s/it]"
     ]
    },
    {
     "name": "stdout",
     "output_type": "stream",
     "text": [
      "Epoch 46/50, Train Loss: 0.6839,           Validation Loss: 0.7626, Duration: 0:00:43.993042\n"
     ]
    },
    {
     "name": "stderr",
     "output_type": "stream",
     "text": [
      "\r",
      " 94%|█████████▍| 47/50 [34:36<02:13, 44.42s/it]"
     ]
    },
    {
     "name": "stdout",
     "output_type": "stream",
     "text": [
      "Epoch 47/50, Train Loss: 0.6824,           Validation Loss: 0.7639, Duration: 0:00:44.411377\n"
     ]
    },
    {
     "name": "stderr",
     "output_type": "stream",
     "text": [
      "\r",
      " 96%|█████████▌| 48/50 [35:20<01:28, 44.44s/it]"
     ]
    },
    {
     "name": "stdout",
     "output_type": "stream",
     "text": [
      "Epoch 48/50, Train Loss: 0.6830,           Validation Loss: 0.7652, Duration: 0:00:44.510468\n"
     ]
    },
    {
     "name": "stderr",
     "output_type": "stream",
     "text": [
      "\r",
      " 98%|█████████▊| 49/50 [36:04<00:44, 44.35s/it]"
     ]
    },
    {
     "name": "stdout",
     "output_type": "stream",
     "text": [
      "Epoch 49/50, Train Loss: 0.6815,           Validation Loss: 0.7626, Duration: 0:00:44.114627\n"
     ]
    },
    {
     "name": "stderr",
     "output_type": "stream",
     "text": [
      "100%|██████████| 50/50 [36:51<00:00, 44.23s/it]"
     ]
    },
    {
     "name": "stdout",
     "output_type": "stream",
     "text": [
      "Epoch 50/50, Train Loss: 0.6821,           Validation Loss: 0.7646, Duration: 0:00:46.385394\n"
     ]
    },
    {
     "name": "stderr",
     "output_type": "stream",
     "text": [
      "\n"
     ]
    }
   ],
   "source": [
    "epochs = 50\n",
    "\n",
    "train_losses = np.zeros(epochs)\n",
    "test_losses = np.zeros(epochs)\n",
    "\n",
    "for it in tqdm(range(epochs)):\n",
    "    st = datetime.now()\n",
    "    model.train()\n",
    "    train_loss = []\n",
    "    for inputs, targets in train_loader:\n",
    "        inputs, targets = inputs.to(device, dtype=torch.float), targets.to(device, dtype=torch.int64)\n",
    "        optimizer.zero_grad()\n",
    "        outputs = model(inputs)\n",
    "        loss = criterion(outputs, targets)\n",
    "        loss.backward()\n",
    "        optimizer.step()\n",
    "        train_loss.append(loss.item())\n",
    "    train_loss = np.mean(train_loss)\n",
    "    model.eval()\n",
    "    test_loss = []\n",
    "    for inputs, targets in test_loader:\n",
    "        inputs, targets = inputs.to(device, dtype=torch.float), targets.to(device, dtype=torch.int64)      \n",
    "        outputs = model(inputs)\n",
    "        loss = criterion(outputs, targets)\n",
    "        test_loss.append(loss.item())\n",
    "    test_loss = np.mean(test_loss)\n",
    "    \n",
    "    train_losses[it] = train_loss\n",
    "    test_losses[it] = test_loss\n",
    "\n",
    "    dt = datetime.now() - st\n",
    "    print(f'Epoch {it+1}/{epochs}, Train Loss: {train_loss:.4f}, \\\n",
    "          Validation Loss: {test_loss:.4f}, Duration: {dt}')"
   ]
  },
  {
   "cell_type": "code",
   "execution_count": 19,
   "metadata": {
    "ExecuteTime": {
     "end_time": "2022-11-28T07:59:55.674194Z",
     "start_time": "2022-11-28T07:59:55.391937Z"
    }
   },
   "outputs": [
    {
     "ename": "NameError",
     "evalue": "name 'val_losses' is not defined",
     "output_type": "error",
     "traceback": [
      "\u001b[1;31m---------------------------------------------------------------------------\u001b[0m",
      "\u001b[1;31mNameError\u001b[0m                                 Traceback (most recent call last)",
      "\u001b[1;32mD:\\temp\\ipykernel_33284\\1328773375.py\u001b[0m in \u001b[0;36m<module>\u001b[1;34m\u001b[0m\n\u001b[0;32m      1\u001b[0m \u001b[0mplt\u001b[0m\u001b[1;33m.\u001b[0m\u001b[0mfigure\u001b[0m\u001b[1;33m(\u001b[0m\u001b[0mfigsize\u001b[0m\u001b[1;33m=\u001b[0m\u001b[1;33m(\u001b[0m\u001b[1;36m15\u001b[0m\u001b[1;33m,\u001b[0m\u001b[1;36m6\u001b[0m\u001b[1;33m)\u001b[0m\u001b[1;33m)\u001b[0m\u001b[1;33m\u001b[0m\u001b[1;33m\u001b[0m\u001b[0m\n\u001b[0;32m      2\u001b[0m \u001b[0mplt\u001b[0m\u001b[1;33m.\u001b[0m\u001b[0mplot\u001b[0m\u001b[1;33m(\u001b[0m\u001b[0mtrain_losses\u001b[0m\u001b[1;33m,\u001b[0m \u001b[0mlabel\u001b[0m\u001b[1;33m=\u001b[0m\u001b[1;34m'train loss'\u001b[0m\u001b[1;33m)\u001b[0m\u001b[1;33m\u001b[0m\u001b[1;33m\u001b[0m\u001b[0m\n\u001b[1;32m----> 3\u001b[1;33m \u001b[0mplt\u001b[0m\u001b[1;33m.\u001b[0m\u001b[0mplot\u001b[0m\u001b[1;33m(\u001b[0m\u001b[0mval_losses\u001b[0m\u001b[1;33m,\u001b[0m \u001b[0mlabel\u001b[0m\u001b[1;33m=\u001b[0m\u001b[1;34m'validation loss'\u001b[0m\u001b[1;33m)\u001b[0m\u001b[1;33m\u001b[0m\u001b[1;33m\u001b[0m\u001b[0m\n\u001b[0m\u001b[0;32m      4\u001b[0m \u001b[0mplt\u001b[0m\u001b[1;33m.\u001b[0m\u001b[0mlegend\u001b[0m\u001b[1;33m(\u001b[0m\u001b[1;33m)\u001b[0m\u001b[1;33m\u001b[0m\u001b[1;33m\u001b[0m\u001b[0m\n",
      "\u001b[1;31mNameError\u001b[0m: name 'val_losses' is not defined"
     ]
    },
    {
     "data": {
      "image/png": "[encoded data removed]",
      "text/plain": [
       "<Figure size 1500x600 with 1 Axes>"
      ]
     },
     "metadata": {},
     "output_type": "display_data"
    }
   ],
   "source": [
    "plt.figure(figsize=(15,6))\n",
    "plt.plot(train_losses, label='train loss')\n",
    "plt.plot(test_losses, label='validation loss')\n",
    "plt.legend()"
   ]
  },
  {
   "cell_type": "code",
   "execution_count": null,
   "metadata": {},
   "outputs": [],
   "source": []
  }
 ],
 "metadata": {
  "kernelspec": {
   "display_name": "Python 3 (ipykernel)",
   "language": "python",
   "name": "python3"
  },
  "language_info": {
   "codemirror_mode": {
    "name": "ipython",
    "version": 3
   },
   "file_extension": ".py",
   "mimetype": "text/x-python",
   "name": "python",
   "nbconvert_exporter": "python",
   "pygments_lexer": "ipython3",
   "version": "3.9.13"
  },
  "vscode": {
   "interpreter": {
    "hash": "5179d32cf6ec497baf3f8a3ef987cc77c5d2dc691fdde20a56316522f61a7323"
   }
  }
 },
 "nbformat": 4,
 "nbformat_minor": 2
}
